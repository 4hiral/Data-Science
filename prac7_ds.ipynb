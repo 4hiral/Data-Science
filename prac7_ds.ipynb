{
  "nbformat": 4,
  "nbformat_minor": 0,
  "metadata": {
    "colab": {
      "provenance": []
    },
    "kernelspec": {
      "name": "python3",
      "display_name": "Python 3"
    },
    "language_info": {
      "name": "python"
    }
  },
  "cells": [
    {
      "cell_type": "code",
      "execution_count": 1,
      "metadata": {
        "id": "t_9PH95Pk851"
      },
      "outputs": [],
      "source": [
        "import numpy as np\n",
        "import pandas as pd\n",
        "from scipy.stats import skew, kurtosis\n"
      ]
    },
    {
      "cell_type": "code",
      "source": [
        "data = [12, 15, 14, 10, 18, 20, 25, 30, 22, 24, 28, 35]\n"
      ],
      "metadata": {
        "id": "xssSJUGElCRV"
      },
      "execution_count": 2,
      "outputs": []
    },
    {
      "cell_type": "code",
      "source": [
        "series = pd.Series(data)\n"
      ],
      "metadata": {
        "id": "Iyq8nn_vlQGK"
      },
      "execution_count": 3,
      "outputs": []
    },
    {
      "cell_type": "code",
      "source": [
        "mean_val = series.mean()\n",
        "median_val = series.median()\n",
        "std_val = series.std()\n",
        "var_val = series.var()\n",
        "skew_val = skew(series)\n",
        "kurt_val = kurtosis(series)"
      ],
      "metadata": {
        "id": "ufAmi250lSxn"
      },
      "execution_count": 4,
      "outputs": []
    },
    {
      "cell_type": "code",
      "source": [
        "print(\"Descriptive Statistical Analysis:\")\n",
        "print(f\"Mean: {mean_val:.2f}\")\n",
        "print(f\"Median: {median_val:.2f}\")\n",
        "print(f\"Standard Deviation: {std_val:.2f}\")\n",
        "print(f\"Variance: {var_val:.2f}\")\n",
        "print(f\"Skewness: {skew_val:.2f}\")\n",
        "print(f\"Kurtosis: {kurt_val:.2f}\")\n"
      ],
      "metadata": {
        "colab": {
          "base_uri": "https://localhost:8080/"
        },
        "id": "c2x65CDUlV4D",
        "outputId": "3465c2b9-bc14-47b2-9f14-2eaabe0955f1"
      },
      "execution_count": 5,
      "outputs": [
        {
          "output_type": "stream",
          "name": "stdout",
          "text": [
            "Descriptive Statistical Analysis:\n",
            "Mean: 21.08\n",
            "Median: 21.00\n",
            "Standard Deviation: 7.68\n",
            "Variance: 58.99\n",
            "Skewness: 0.23\n",
            "Kurtosis: -0.94\n"
          ]
        }
      ]
    },
    {
      "cell_type": "code",
      "source": [
        "if skew_val > 0:\n",
        "    skewness_insight = \"positively skewed (tail on the right)\"\n",
        "elif skew_val < 0:\n",
        "    skewness_insight = \"negatively skewed (tail on the left)\"\n",
        "else:\n",
        "    skewness_insight = \"approximately symmetric\"\n",
        "\n",
        "if kurt_val > 0:\n",
        "    kurtosis_insight = \"leptokurtic (heavy-tailed, peaked)\"\n",
        "elif kurt_val < 0:\n",
        "    kurtosis_insight = \"platykurtic (light-tailed, flat)\"\n",
        "else:\n",
        "    kurtosis_insight = \"mesokurtic (normal-like)\"\n",
        "\n",
        "print(\"\\nInsights:\")\n",
        "print(f\"- The distribution is {skewness_insight}.\")\n",
        "print(f\"- The distribution is {kurtosis_insight}.\")"
      ],
      "metadata": {
        "colab": {
          "base_uri": "https://localhost:8080/"
        },
        "id": "S7ZFjkFdlagy",
        "outputId": "ca93cf1e-4f22-4743-ea99-d8b2d159c699"
      },
      "execution_count": 6,
      "outputs": [
        {
          "output_type": "stream",
          "name": "stdout",
          "text": [
            "\n",
            "Insights:\n",
            "- The distribution is positively skewed (tail on the right).\n",
            "- The distribution is platykurtic (light-tailed, flat).\n"
          ]
        }
      ]
    }
  ]
}